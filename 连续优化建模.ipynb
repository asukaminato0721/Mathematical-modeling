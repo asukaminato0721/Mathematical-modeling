{
 "cells": [
  {
   "cell_type": "markdown",
   "metadata": {},
   "source": [
    "## 连续优化建模"
   ]
  },
  {
   "cell_type": "code",
   "execution_count": 2,
   "metadata": {
    "ExecuteTime": {
     "end_time": "2020-05-25T00:09:22+08:00",
     "start_time": "2020-05-24T16:09:22.935Z"
    }
   },
   "outputs": [
    {
     "data": {
      "text/html": [
       "<div>&#36;&#36;&#92;&#123;&#56;&#44;&#92;&#123;&#120;&#92;&#116;&#111;&#32;&#45;&#50;&#44;&#121;&#92;&#116;&#111;&#32;&#45;&#50;&#92;&#125;&#92;&#125;&#36;&#36;</div>"
      ],
      "text/plain": [
       "\\{8,\\{x\\to -2,y\\to -2\\}\\}"
      ]
     },
     "execution_count": 2,
     "metadata": {
      "text/html": [],
      "text/plain": []
     },
     "output_type": "execute_result"
    }
   ],
   "source": [
    "Maximize[{x y-x x-y y-2x-2y+4},{x,y}]//TeXForm"
   ]
  },
  {
   "cell_type": "code",
   "execution_count": 3,
   "metadata": {
    "ExecuteTime": {
     "end_time": "2020-05-25T00:10:15+08:00",
     "start_time": "2020-05-24T16:10:15.573Z"
    }
   },
   "outputs": [
    {
     "data": {
      "text/html": [
       "<div>&#36;&#36;&#92;&#108;&#101;&#102;&#116;&#92;&#123;&#45;&#92;&#102;&#114;&#97;&#99;&#123;&#51;&#49;&#125;&#123;&#49;&#50;&#125;&#44;&#92;&#108;&#101;&#102;&#116;&#92;&#123;&#120;&#92;&#116;&#111;&#32;&#92;&#102;&#114;&#97;&#99;&#123;&#49;&#51;&#125;&#123;&#49;&#50;&#125;&#44;&#121;&#92;&#116;&#111;&#32;&#45;&#92;&#102;&#114;&#97;&#99;&#123;&#51;&#125;&#123;&#52;&#125;&#92;&#114;&#105;&#103;&#104;&#116;&#92;&#125;&#92;&#114;&#105;&#103;&#104;&#116;&#92;&#125;&#36;&#36;</div>"
      ],
      "text/plain": [
       "\\left\\{-\\frac{31}{12},\\left\\{x\\to \\frac{13}{12},y\\to -\\frac{3}{4}\\right\\}\\right\\}"
      ]
     },
     "execution_count": 3,
     "metadata": {
      "text/html": [],
      "text/plain": []
     },
     "output_type": "execute_result"
    }
   ],
   "source": [
    "Minimize[{3x x+6x y+7 y y -2x+4y},{x,y}]//TeXForm"
   ]
  },
  {
   "cell_type": "code",
   "execution_count": 7,
   "metadata": {
    "ExecuteTime": {
     "end_time": "2020-05-25T00:11:59+08:00",
     "start_time": "2020-05-24T16:11:59.689Z"
    }
   },
   "outputs": [
    {
     "data": {
      "text/html": [
       "<div>&#36;&#36;&#92;&#108;&#101;&#102;&#116;&#40;&#10;&#92;&#98;&#101;&#103;&#105;&#110;&#123;&#97;&#114;&#114;&#97;&#121;&#125;&#123;&#99;&#99;&#125;&#10;&#32;&#50;&#32;&#38;&#32;&#92;&#108;&#101;&#102;&#116;&#92;&#123;&#120;&#92;&#116;&#111;&#32;&#92;&#102;&#114;&#97;&#99;&#123;&#49;&#125;&#123;&#50;&#125;&#44;&#121;&#92;&#116;&#111;&#32;&#92;&#102;&#114;&#97;&#99;&#123;&#49;&#125;&#123;&#50;&#125;&#92;&#114;&#105;&#103;&#104;&#116;&#92;&#125;&#32;&#92;&#92;&#10;&#32;&#45;&#51;&#50;&#32;&#38;&#32;&#92;&#123;&#120;&#92;&#116;&#111;&#32;&#49;&#44;&#121;&#92;&#116;&#111;&#32;&#48;&#92;&#125;&#32;&#92;&#92;&#10;&#92;&#101;&#110;&#100;&#123;&#97;&#114;&#114;&#97;&#121;&#125;&#10;&#92;&#114;&#105;&#103;&#104;&#116;&#41;&#36;&#36;</div>"
      ],
      "text/plain": [
       "\\left(\n",
       "\\begin{array}{cc}\n",
       " 2 & \\left\\{x\\to \\frac{1}{2},y\\to \\frac{1}{2}\\right\\} \\\\\n",
       " -32 & \\{x\\to 1,y\\to 0\\} \\\\\n",
       "\\end{array}\n",
       "\\right)"
      ]
     },
     "execution_count": 7,
     "metadata": {
      "text/html": [],
      "text/plain": []
     },
     "output_type": "execute_result"
    }
   ],
   "source": [
    "#[{48 x y-32 x x x -24  y y,0<=x<=1,0<=y<=1},{x,y}]&/@{Maximize,Minimize}//TeXForm"
   ]
  },
  {
   "cell_type": "code",
   "execution_count": 8,
   "metadata": {
    "ExecuteTime": {
     "end_time": "2020-05-25T00:13:11+08:00",
     "start_time": "2020-05-24T16:13:11.924Z"
    }
   },
   "outputs": [
    {
     "data": {
      "text/html": [
       "<div>&#36;&#36;&#92;&#123;&#49;&#56;&#48;&#48;&#44;&#92;&#123;&#120;&#92;&#116;&#111;&#32;&#50;&#48;&#48;&#44;&#121;&#92;&#116;&#111;&#32;&#49;&#48;&#48;&#92;&#125;&#92;&#125;&#36;&#36;</div>"
      ],
      "text/plain": [
       "\\{1800,\\{x\\to 200,y\\to 100\\}\\}"
      ]
     },
     "execution_count": 8,
     "metadata": {
      "text/html": [],
      "text/plain": []
     },
     "output_type": "execute_result"
    }
   ],
   "source": [
    "Maximize[{ 18 x+2y -1/20 x x-3/100 y y+1/50 x y-100 },{x,y}]//TeXForm"
   ]
  },
  {
   "cell_type": "code",
   "execution_count": 11,
   "metadata": {
    "ExecuteTime": {
     "end_time": "2020-05-25T00:14:03+08:00",
     "start_time": "2020-05-24T16:14:03.640Z"
    },
    "scrolled": true
   },
   "outputs": [
    {
     "data": {
      "text/html": [
       "<div>&#36;&#36;&#92;&#108;&#101;&#102;&#116;&#92;&#123;&#92;&#102;&#114;&#97;&#99;&#123;&#57;&#48;&#57;&#125;&#123;&#53;&#125;&#44;&#92;&#123;&#120;&#92;&#116;&#111;&#32;&#49;&#56;&#44;&#121;&#92;&#116;&#111;&#32;&#49;&#52;&#92;&#125;&#92;&#114;&#105;&#103;&#104;&#116;&#92;&#125;&#36;&#36;</div>"
      ],
      "text/plain": [
       "\\left\\{\\frac{909}{5},\\{x\\to 18,y\\to 14\\}\\right\\}"
      ]
     },
     "execution_count": 11,
     "metadata": {
      "text/html": [],
      "text/plain": []
     },
     "output_type": "execute_result"
    }
   ],
   "source": [
    "Maximize[{54/100 x x-1/50 x x x+189/100 y y-9/100 y y y ,x>0,y>0},{x,y}]//TeXForm"
   ]
  },
  {
   "cell_type": "code",
   "execution_count": 16,
   "metadata": {
    "ExecuteTime": {
     "end_time": "2020-05-25T00:16:32+08:00",
     "start_time": "2020-05-24T16:16:32.302Z"
    }
   },
   "outputs": [
    {
     "data": {
      "text/html": [
       "<div>&#36;&#36;&#92;&#123;&#50;&#56;&#53;&#48;&#44;&#92;&#123;&#120;&#92;&#116;&#111;&#32;&#52;&#44;&#121;&#92;&#116;&#111;&#32;&#51;&#92;&#125;&#92;&#125;&#36;&#36;</div>"
      ],
      "text/plain": [
       "\\{2850,\\{x\\to 4,y\\to 3\\}\\}"
      ]
     },
     "execution_count": 16,
     "metadata": {
      "text/html": [],
      "text/plain": []
     },
     "output_type": "execute_result"
    }
   ],
   "source": [
    "With[{Qa=2750-700x+200y,Qb=2400+150x-800y},\n",
    "Maximize[{3Qa+2Qb,x>3,y>2},{x,y},Integers]\n",
    "]//TeXForm"
   ]
  },
  {
   "cell_type": "markdown",
   "metadata": {},
   "source": [
    "连续约束优化"
   ]
  },
  {
   "cell_type": "code",
   "execution_count": 18,
   "metadata": {
    "ExecuteTime": {
     "end_time": "2020-05-25T00:18:42+08:00",
     "start_time": "2020-05-24T16:18:42.613Z"
    }
   },
   "outputs": [
    {
     "data": {
      "text/html": [
       "<div>&#36;&#36;&#92;&#123;&#49;&#44;&#92;&#123;&#120;&#92;&#116;&#111;&#32;&#48;&#44;&#121;&#92;&#116;&#111;&#32;&#45;&#49;&#44;&#122;&#92;&#116;&#111;&#32;&#48;&#92;&#125;&#92;&#125;&#36;&#36;</div>"
      ],
      "text/plain": [
       "\\{1,\\{x\\to 0,y\\to -1,z\\to 0\\}\\}"
      ]
     },
     "execution_count": 18,
     "metadata": {
      "text/html": [],
      "text/plain": []
     },
     "output_type": "execute_result"
    }
   ],
   "source": [
    "Minimize[{EuclideanDistance[{x, y, z}, {0, 0, 0}],x x+y y-z z==1},{x,y,z}]//TeXForm"
   ]
  },
  {
   "cell_type": "code",
   "execution_count": 20,
   "metadata": {
    "ExecuteTime": {
     "end_time": "2020-05-25T00:19:46+08:00",
     "start_time": "2020-05-24T16:19:46.124Z"
    }
   },
   "outputs": [
    {
     "data": {
      "text/html": [
       "<div>&#36;&#36;&#92;&#123;&#50;&#55;&#44;&#92;&#123;&#120;&#92;&#116;&#111;&#32;&#51;&#44;&#121;&#92;&#116;&#111;&#32;&#51;&#44;&#122;&#92;&#116;&#111;&#32;&#51;&#92;&#125;&#92;&#125;&#36;&#36;</div>"
      ],
      "text/plain": [
       "\\{27,\\{x\\to 3,y\\to 3,z\\to 3\\}\\}"
      ]
     },
     "execution_count": 20,
     "metadata": {
      "text/html": [],
      "text/plain": []
     },
     "output_type": "execute_result"
    }
   ],
   "source": [
    "Minimize[{{x, y, z}^2//Total,x +y +z==9},{x,y,z}]//TeXForm"
   ]
  },
  {
   "cell_type": "code",
   "execution_count": 23,
   "metadata": {
    "ExecuteTime": {
     "end_time": "2020-05-25T00:20:58+08:00",
     "start_time": "2020-05-24T16:20:57.984Z"
    }
   },
   "outputs": [
    {
     "data": {
      "text/html": [
       "<div>&#36;&#36;&#92;&#108;&#101;&#102;&#116;&#92;&#123;&#92;&#102;&#114;&#97;&#99;&#123;&#49;&#57;&#50;&#56;&#125;&#123;&#51;&#125;&#44;&#92;&#108;&#101;&#102;&#116;&#92;&#123;&#120;&#92;&#116;&#111;&#32;&#45;&#92;&#102;&#114;&#97;&#99;&#123;&#52;&#125;&#123;&#51;&#125;&#44;&#121;&#92;&#116;&#111;&#32;&#45;&#92;&#102;&#114;&#97;&#99;&#123;&#52;&#125;&#123;&#51;&#125;&#44;&#122;&#92;&#116;&#111;&#92;&#10;&#32;&#10;&#62;&#32;&#32;&#32;&#45;&#92;&#102;&#114;&#97;&#99;&#123;&#52;&#125;&#123;&#51;&#125;&#92;&#114;&#105;&#103;&#104;&#116;&#92;&#125;&#92;&#114;&#105;&#103;&#104;&#116;&#92;&#125;&#36;&#36;</div>"
      ],
      "text/plain": [
       "\\left\\{\\frac{1928}{3},\\left\\{x\\to -\\frac{4}{3},y\\to -\\frac{4}{3},z\\to\\\n",
       " \n",
       ">   -\\frac{4}{3}\\right\\}\\right\\}"
      ]
     },
     "execution_count": 23,
     "metadata": {
      "text/html": [],
      "text/plain": []
     },
     "output_type": "execute_result"
    }
   ],
   "source": [
    "Maximize[{  8 x x+4 y z-16z+600,4 x x+ y y+4 z z==16 },{x,y,z}]//TeXForm"
   ]
  }
 ],
 "metadata": {
  "kernelspec": {
   "display_name": "Wolfram Language 11.3",
   "language": "Wolfram Language",
   "name": "wolframlanguage11.3"
  },
  "language_info": {
   "codemirror_mode": "mathematica",
   "file_extension": ".m",
   "mimetype": "application/vnd.wolfram.m",
   "name": "Wolfram Language",
   "pygments_lexer": "mathematica",
   "version": "12.0"
  },
  "latex_envs": {
   "LaTeX_envs_menu_present": true,
   "autoclose": true,
   "autocomplete": true,
   "bibliofile": "biblio.bib",
   "cite_by": "apalike",
   "current_citInitial": 1,
   "eqLabelWithNumbers": true,
   "eqNumInitial": 1,
   "hotkeys": {
    "equation": "Ctrl-E",
    "itemize": "Ctrl-I"
   },
   "labels_anchors": false,
   "latex_user_defs": false,
   "report_style_numbering": false,
   "user_envs_cfg": false
  },
  "toc": {
   "base_numbering": 1,
   "nav_menu": {},
   "number_sections": true,
   "sideBar": true,
   "skip_h1_title": false,
   "title_cell": "Table of Contents",
   "title_sidebar": "Contents",
   "toc_cell": false,
   "toc_position": {},
   "toc_section_display": true,
   "toc_window_display": false
  }
 },
 "nbformat": 4,
 "nbformat_minor": 2
}
